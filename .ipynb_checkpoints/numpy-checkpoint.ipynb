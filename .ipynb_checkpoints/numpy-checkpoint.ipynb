{
 "cells": [
  {
   "cell_type": "code",
   "execution_count": 5,
   "id": "17ec1ee6",
   "metadata": {},
   "outputs": [],
   "source": [
    "import numpy as np"
   ]
  },
  {
   "cell_type": "markdown",
   "id": "0aa762df",
   "metadata": {},
   "source": [
    "# SLICE ARRAY"
   ]
  },
  {
   "cell_type": "code",
   "execution_count": 7,
   "id": "2ae63ce7",
   "metadata": {},
   "outputs": [
    {
     "name": "stdout",
     "output_type": "stream",
     "text": [
      "[2 3 4 5]\n"
     ]
    }
   ],
   "source": [
    "arr = np.array([1,2,3,4,5,6,7,8,9])\n",
    "print(arr[1:5])"
   ]
  },
  {
   "cell_type": "code",
   "execution_count": 13,
   "id": "f7c30b4d",
   "metadata": {},
   "outputs": [
    {
     "name": "stdout",
     "output_type": "stream",
     "text": [
      "[3 4 5 6 7 8 9] [1 2 3 4] [7 8 9]\n"
     ]
    }
   ],
   "source": [
    "print(arr[2:],arr[:4],arr[-3:])"
   ]
  },
  {
   "cell_type": "code",
   "execution_count": 15,
   "id": "01f1e1e3",
   "metadata": {},
   "outputs": [
    {
     "name": "stdout",
     "output_type": "stream",
     "text": [
      "[2 4 6]\n"
     ]
    }
   ],
   "source": [
    "print(arr[1:6:2])"
   ]
  },
  {
   "cell_type": "code",
   "execution_count": 35,
   "id": "fcdc8f6e",
   "metadata": {
    "scrolled": false
   },
   "outputs": [
    {
     "name": "stdout",
     "output_type": "stream",
     "text": [
      "[list([1, 2, 3, 4, 5, 6, 7, 8, 9])]\n"
     ]
    }
   ],
   "source": [
    "print(arr[::2])"
   ]
  },
  {
   "cell_type": "markdown",
   "id": "9db248f8",
   "metadata": {},
   "source": [
    "# Get elements arrays 2D"
   ]
  },
  {
   "cell_type": "code",
   "execution_count": 32,
   "id": "5d271a24",
   "metadata": {},
   "outputs": [
    {
     "name": "stdout",
     "output_type": "stream",
     "text": [
      "[3 7]\n"
     ]
    }
   ],
   "source": [
    "arrs = np.array([[1,2,3,4,5],[5,6,7,8,9]])\n",
    "print(arrs[0:2, 2])\n",
    "#Note: The numbers of columns have to same"
   ]
  },
  {
   "cell_type": "markdown",
   "id": "0bb4d741",
   "metadata": {},
   "source": [
    "## Dưới đây là danh sách tất cả các loại dữ liệu trong NumPy và các ký tự được sử dụng để đại diện cho chúng.‎\n",
    "+ i - integer\n",
    "+ b - boolean\n",
    "+ u - unsigned integer\n",
    "+ f - float\n",
    "+ c - complex float\n",
    "+ m - timedelta\n",
    "+ M - datetime\n",
    "+ O - object\n",
    "+ S - string\n",
    "+ U - unicode string\n",
    "+ V - fixed chunk of memory for other type ( void )"
   ]
  },
  {
   "cell_type": "code",
   "execution_count": 44,
   "id": "212bad16",
   "metadata": {},
   "outputs": [
    {
     "name": "stdout",
     "output_type": "stream",
     "text": [
      "<U6 <U11\n"
     ]
    }
   ],
   "source": [
    "# Check the Data Type of an Array\n",
    "a = np.array([1,2,3,4,'nam'])\n",
    "s = np.array(['apple', 'banana', 'cherry'])\n",
    "print(s.dtype,a.dtype)"
   ]
  },
  {
   "cell_type": "code",
   "execution_count": 50,
   "id": "98b530fa",
   "metadata": {},
   "outputs": [
    {
     "name": "stdout",
     "output_type": "stream",
     "text": [
      "|S1\n"
     ]
    }
   ],
   "source": [
    "#Defined Data type in array\n",
    "aa = np.array([1,2,3,4],dtype='S')\n",
    "print(aa.dtype)"
   ]
  },
  {
   "cell_type": "markdown",
   "id": "7fbea9b6",
   "metadata": {},
   "source": [
    "### Converting data type on existing arrays"
   ]
  },
  {
   "cell_type": "code",
   "execution_count": 52,
   "id": "73e8c174",
   "metadata": {},
   "outputs": [
    {
     "data": {
      "text/plain": [
       "dtype('S1')"
      ]
     },
     "execution_count": 52,
     "metadata": {},
     "output_type": "execute_result"
    }
   ],
   "source": [
    "a=a.astype('S')\n",
    "a.dtype"
   ]
  },
  {
   "cell_type": "markdown",
   "id": "c07450e2",
   "metadata": {},
   "source": [
    "**Note**\n",
    "+ Can not convert array have 2 differents\n",
    "+ example: [1,2,3,'nam'] not convert 'i' but can convert 'S'"
   ]
  },
  {
   "cell_type": "markdown",
   "id": "4da0d4a1",
   "metadata": {},
   "source": [
    "# Coppy and Views"
   ]
  },
  {
   "cell_type": "code",
   "execution_count": 2,
   "id": "f95e4b3d",
   "metadata": {},
   "outputs": [
    {
     "name": "stdout",
     "output_type": "stream",
     "text": [
      "[6 2 3 4 5] [1 2 3 4 5] [6 2 3 4 5]\n"
     ]
    }
   ],
   "source": [
    "import numpy as np\n",
    "ass = np.array([1,2,3,4,5])\n",
    "x = ass.copy()\n",
    "ass[0] = 6\n",
    "vie = ass.view()\n",
    "print(ass,x,vie)"
   ]
  },
  {
   "cell_type": "markdown",
   "id": "b12aaced",
   "metadata": {},
   "source": [
    "+ When orgine arrays changes then not affect to array_coppy() but affect to array_view\n"
   ]
  },
  {
   "cell_type": "code",
   "execution_count": 58,
   "id": "f542bb58",
   "metadata": {},
   "outputs": [
    {
     "name": "stdout",
     "output_type": "stream",
     "text": [
      "None [6 2 3 4 5]\n"
     ]
    }
   ],
   "source": [
    "# Check arrays owns its data\n",
    "print(x.base,vie.base)"
   ]
  },
  {
   "cell_type": "markdown",
   "id": "165c3aed",
   "metadata": {},
   "source": [
    "# Shape array"
   ]
  },
  {
   "cell_type": "code",
   "execution_count": 62,
   "id": "2a4e9ffa",
   "metadata": {},
   "outputs": [
    {
     "name": "stdout",
     "output_type": "stream",
     "text": [
      "(2, 4)\n"
     ]
    }
   ],
   "source": [
    "sa = np.array([[1,2,3,4],[1,2,4,5]])\n",
    "print(sa.shape)"
   ]
  },
  {
   "cell_type": "code",
   "execution_count": 64,
   "id": "8fc92a03",
   "metadata": {},
   "outputs": [
    {
     "data": {
      "text/plain": [
       "array([[ 1,  2,  3],\n",
       "       [ 4,  5,  6],\n",
       "       [ 7,  8,  9],\n",
       "       [10, 11, 12]])"
      ]
     },
     "execution_count": 64,
     "metadata": {},
     "output_type": "execute_result"
    }
   ],
   "source": [
    "# Change 1D to \n",
    "arr = np.array([1, 2, 3, 4, 5, 6, 7, 8, 9, 10, 11, 12])\n",
    "\n",
    "newarr = arr.reshape(4, 3)\n",
    "newarr"
   ]
  },
  {
   "cell_type": "code",
   "execution_count": 69,
   "id": "ecf5f8e6",
   "metadata": {},
   "outputs": [
    {
     "data": {
      "text/plain": [
       "array([ 1,  2,  3,  4,  5,  6,  7,  8,  9, 10, 11, 12])"
      ]
     },
     "execution_count": 69,
     "metadata": {},
     "output_type": "execute_result"
    }
   ],
   "source": [
    "arr = np.array([[1, 2, 3, 4, 5, 6], [7, 8, 9, 10, 11, 12]])\n",
    "\n",
    "newarr = arr.reshape(-1)\n",
    "newarr\n",
    "\n"
   ]
  },
  {
   "cell_type": "code",
   "execution_count": 71,
   "id": "f7357bf5",
   "metadata": {},
   "outputs": [
    {
     "name": "stdout",
     "output_type": "stream",
     "text": [
      "1\n",
      "2\n",
      "3\n",
      "4\n",
      "5\n",
      "6\n",
      "7\n",
      "8\n"
     ]
    }
   ],
   "source": [
    "#Function help go all elment in multidimemsional array\n",
    "arr = np.array([[['1', 2], [3, 4]], [[5, 6], [7, 8]]])\n",
    "for x in np.nditer(arr):\n",
    "  print(x)"
   ]
  },
  {
   "cell_type": "code",
   "execution_count": 75,
   "id": "64b81185",
   "metadata": {},
   "outputs": [
    {
     "name": "stdout",
     "output_type": "stream",
     "text": [
      "1\n",
      "3\n",
      "5\n",
      "7\n"
     ]
    }
   ],
   "source": [
    "arr = np.array([[1, 2, 3, 4], [5, 6, 7, 8]])\n",
    "\n",
    "for x in np.nditer(arr[:, ::2]):\n",
    "  print(x)"
   ]
  },
  {
   "cell_type": "markdown",
   "id": "78c79cf8",
   "metadata": {},
   "source": [
    "### Print all index"
   ]
  },
  {
   "cell_type": "code",
   "execution_count": 77,
   "id": "56ed935e",
   "metadata": {},
   "outputs": [
    {
     "name": "stdout",
     "output_type": "stream",
     "text": [
      "(0, 0) 1\n",
      "(0, 1) 2\n",
      "(0, 2) 3\n",
      "(0, 3) 4\n",
      "(1, 0) 5\n",
      "(1, 1) 6\n",
      "(1, 2) 7\n",
      "(1, 3) 8\n"
     ]
    }
   ],
   "source": [
    "for id, x in np.ndenumerate(arr):\n",
    "    print(id,x)"
   ]
  },
  {
   "cell_type": "markdown",
   "id": "221c2f0c",
   "metadata": {},
   "source": [
    "## Concatenate()"
   ]
  },
  {
   "cell_type": "code",
   "execution_count": 3,
   "id": "bb843826",
   "metadata": {},
   "outputs": [
    {
     "data": {
      "text/plain": [
       "array([1, 2, 3, 4, 5, 6])"
      ]
     },
     "execution_count": 3,
     "metadata": {},
     "output_type": "execute_result"
    }
   ],
   "source": [
    "arr1 = np.array([1,2,3])\n",
    "arr2 = np.array([4,5,6])\n",
    "arr = np.concatenate((arr1,arr2), axis=0)\n",
    "arr"
   ]
  },
  {
   "cell_type": "code",
   "execution_count": 87,
   "id": "a71fed5f",
   "metadata": {},
   "outputs": [
    {
     "data": {
      "text/plain": [
       "array([[1, 2, 3, 4, 5, 6],\n",
       "       [1, 2, 3, 1, 2, 3]])"
      ]
     },
     "execution_count": 87,
     "metadata": {},
     "output_type": "execute_result"
    }
   ],
   "source": [
    "arr1 = np.array([[1,2,3],[1,2,3]])\n",
    "arr2 = np.array([[4,5,6],[1,2,3]])\n",
    "arr = np.concatenate((arr1,arr2), axis=1)\n",
    "arr\n",
    "# 1 = horizontal, 0 = vertical"
   ]
  },
  {
   "cell_type": "markdown",
   "id": "6db1bf9c",
   "metadata": {},
   "source": [
    "# Vector convert to columns"
   ]
  },
  {
   "cell_type": "code",
   "execution_count": 92,
   "id": "fe774e72",
   "metadata": {},
   "outputs": [
    {
     "data": {
      "text/plain": [
       "array([[1, 4],\n",
       "       [2, 5],\n",
       "       [3, 6]])"
      ]
     },
     "execution_count": 92,
     "metadata": {},
     "output_type": "execute_result"
    }
   ],
   "source": [
    "arr1 = np.array([1,2,3])\n",
    "arr2 = np.array([4,5,6])\n",
    "arrs = np.stack((arr1,arr2), axis=1)\n",
    "arrs"
   ]
  },
  {
   "cell_type": "markdown",
   "id": "cc41167f",
   "metadata": {},
   "source": [
    "# Split into arrays"
   ]
  },
  {
   "cell_type": "code",
   "execution_count": 98,
   "id": "b14d03fa",
   "metadata": {},
   "outputs": [
    {
     "name": "stdout",
     "output_type": "stream",
     "text": [
      "[1 2 3]\n",
      "[4 5 6]\n",
      "[7 8 8]\n"
     ]
    },
    {
     "data": {
      "text/plain": [
       "[None, None, None]"
      ]
     },
     "execution_count": 98,
     "metadata": {},
     "output_type": "execute_result"
    }
   ],
   "source": [
    "##### ass = np.array([1,2,3,4,5,6,7,8,8])\n",
    "newass = np.array_split(ass,3)\n",
    "[print(x) for x in newass]"
   ]
  },
  {
   "cell_type": "markdown",
   "id": "8f8d8f40",
   "metadata": {},
   "source": [
    "# Search arrays\n",
    "--> OUTPUT: INDEX"
   ]
  },
  {
   "cell_type": "code",
   "execution_count": 132,
   "id": "585ff00b",
   "metadata": {},
   "outputs": [
    {
     "data": {
      "text/plain": [
       "(array([ 1,  3,  5,  6,  9, 10], dtype=int64),)"
      ]
     },
     "execution_count": 132,
     "metadata": {},
     "output_type": "execute_result"
    }
   ],
   "source": [
    "asa = np.array([1,2,3,4,5,4,6,7,7,4,8])\n",
    "x = np.where(asa == 4) # search not condition\n",
    "x = np.where(asa%2==0) # search condition\n",
    "x"
   ]
  },
  {
   "cell_type": "markdown",
   "id": "b369c2c8",
   "metadata": {},
   "source": [
    "# Binary search in numpy (chưa hiêu)\n",
    "+ Note : Array will sort before when find value\n",
    "+ Defaute array find from left to right\n",
    "+ Can add side='right' "
   ]
  },
  {
   "cell_type": "code",
   "execution_count": 139,
   "id": "9e955dea",
   "metadata": {},
   "outputs": [
    {
     "name": "stdout",
     "output_type": "stream",
     "text": [
      "11\n"
     ]
    }
   ],
   "source": [
    "x = np.searchsorted(asa,8,side='right')\n",
    "# arr = np.array([6, 7, 8, 9])\n",
    "\n",
    "# x = np.searchsorted(asa, 7, side='right')\n",
    "\n",
    "print(x.item())\n",
    "# asa = asa.sort()\n",
    "# asa"
   ]
  },
  {
   "cell_type": "code",
   "execution_count": 141,
   "id": "c583d685",
   "metadata": {},
   "outputs": [
    {
     "name": "stdout",
     "output_type": "stream",
     "text": [
      "Input array :  [2, 3, 4, 5, 6]\n",
      "The number which we want to insert :  4\n",
      "Output indices to maintain sorted array :  2\n"
     ]
    }
   ],
   "source": [
    "\n",
    "# Python program explaining\n",
    "# searchsorted() function\n",
    "   \n",
    "import numpy as geek\n",
    "  \n",
    "# input array\n",
    "in_arr = [2, 3, 4, 5, 6]\n",
    "print (\"Input array : \", in_arr)\n",
    "  \n",
    "# the number which we want to insert\n",
    "num = 4\n",
    "print(\"The number which we want to insert : \", num) \n",
    "    \n",
    "out_ind = geek.searchsorted(in_arr, num) \n",
    "print (\"Output indices to maintain sorted array : \", out_ind)"
   ]
  },
  {
   "cell_type": "code",
   "execution_count": 142,
   "id": "6c224079",
   "metadata": {},
   "outputs": [
    {
     "data": {
      "text/plain": [
       "array([1, 2, 3, 4, 5, 6, 7, 8, 8])"
      ]
     },
     "execution_count": 142,
     "metadata": {},
     "output_type": "execute_result"
    }
   ],
   "source": [
    "np.sort(ass)"
   ]
  },
  {
   "cell_type": "markdown",
   "id": "6f69c14e",
   "metadata": {},
   "source": [
    "# Filtel array"
   ]
  },
  {
   "cell_type": "code",
   "execution_count": 145,
   "id": "2ec859b3",
   "metadata": {},
   "outputs": [
    {
     "data": {
      "text/plain": [
       "array([  2,   6, 710])"
      ]
     },
     "execution_count": 145,
     "metadata": {},
     "output_type": "execute_result"
    }
   ],
   "source": [
    "arr = np.array([1,2,3,5,6,710])\n",
    "filter_n = arr % 2==0\n",
    "arr[filter_n]"
   ]
  },
  {
   "cell_type": "markdown",
   "id": "c33b34ff",
   "metadata": {},
   "source": [
    "# RANDOM"
   ]
  },
  {
   "cell_type": "code",
   "execution_count": 36,
   "id": "a4d104b0",
   "metadata": {},
   "outputs": [
    {
     "name": "stdout",
     "output_type": "stream",
     "text": [
      "Rand 0 to 100\n",
      " 13\n",
      "Rand 0 to 1\n",
      " 0.201745810217564\n",
      "Creat rand size 5\n",
      " [35  2 81 56 28]\n",
      "Rand matrix 2 5 in array(100)\n",
      " [[38 33 21  1 28]\n",
      " [19  4 16 50 82]]\n",
      "Choice rand\n",
      " 5\n",
      "Choice rand matrix in array\n",
      " [[4 1 8 9 4]\n",
      " [6 7 8 9 7]\n",
      " [7 9 1 1 8]]\n"
     ]
    }
   ],
   "source": [
    "from numpy import random\n",
    "a = random.randint(100)\n",
    "x = random.rand()\n",
    "y = random.randint(100, size=(5))\n",
    "z = random.randint(100, size=(2,5))\n",
    "d = random.choice([6,7,5,3])\n",
    "e = random.choice([6,7,8,9,9,4,1,1],size=(3,5))\n",
    "print('Rand 0 to 100\\n', a)\n",
    "print('Rand 0 to 1\\n',x)\n",
    "print('Creat rand size 5\\n',y)\n",
    "print('Rand matrix 2 5 in array(100)\\n',z)\n",
    "print('Choice rand\\n',d)\n",
    "print('Choice rand matrix in array\\n',e)"
   ]
  },
  {
   "cell_type": "markdown",
   "id": "c90b6ea5",
   "metadata": {},
   "source": [
    "# DISTRIBUTE DATA"
   ]
  },
  {
   "cell_type": "markdown",
   "id": "1f8dc691",
   "metadata": {},
   "source": [
    "- Phân phối dữ kiệu là một danh sách tất cả các giá trị có thể và tần xuất xãy ra của mỗi giá trị\n",
    "- Tỉ lệ được phân phối theo 1/100\n"
   ]
  },
  {
   "cell_type": "code",
   "execution_count": 42,
   "id": "ea9f3fe3",
   "metadata": {},
   "outputs": [
    {
     "data": {
      "text/plain": [
       "array([[3, 3, 3, ..., 2, 3, 3],\n",
       "       [2, 1, 1, ..., 3, 2, 2],\n",
       "       [1, 2, 3, ..., 3, 1, 2],\n",
       "       ...,\n",
       "       [2, 3, 3, ..., 2, 2, 2],\n",
       "       [3, 3, 3, ..., 3, 2, 3],\n",
       "       [3, 3, 3, ..., 1, 2, 3]])"
      ]
     },
     "execution_count": 42,
     "metadata": {},
     "output_type": "execute_result"
    }
   ],
   "source": [
    "import numpy as np\n",
    "arr = np.array([1,2,3,7])\n",
    "np.random.choice(arr, p=[0.1,0.4, 0.5, 0.0], size=(100,100))"
   ]
  },
  {
   "cell_type": "markdown",
   "id": "baec3081",
   "metadata": {},
   "source": [
    "# shuffle and permutation all item in array\n",
    "- different between permutation and shuffle is shuffle change on origine array else permutation created copy version"
   ]
  },
  {
   "cell_type": "code",
   "execution_count": 88,
   "id": "3d78458b",
   "metadata": {},
   "outputs": [
    {
     "data": {
      "text/plain": [
       "array([7, 1, 3, 2])"
      ]
     },
     "execution_count": 88,
     "metadata": {},
     "output_type": "execute_result"
    }
   ],
   "source": [
    "random.permutation(arr)\n",
    "arr"
   ]
  },
  {
   "cell_type": "code",
   "execution_count": 84,
   "id": "a5d629e0",
   "metadata": {},
   "outputs": [
    {
     "data": {
      "text/plain": [
       "array([7, 1, 3, 2])"
      ]
     },
     "execution_count": 84,
     "metadata": {},
     "output_type": "execute_result"
    }
   ],
   "source": [
    "random.shuffle(arr) \n",
    "arr"
   ]
  },
  {
   "cell_type": "markdown",
   "id": "5ae3e003",
   "metadata": {},
   "source": [
    "# SEABORN\n",
    "- **Distplot** stands for distribution plot, it takes as input an array and plots a curve corresponding to the distribution of points in the array.\n"
   ]
  },
  {
   "cell_type": "code",
   "execution_count": 92,
   "id": "b0ab1a2d",
   "metadata": {},
   "outputs": [
    {
     "name": "stderr",
     "output_type": "stream",
     "text": [
      "C:\\Users\\nguye\\anaconda3\\lib\\site-packages\\seaborn\\distributions.py:2619: FutureWarning: `distplot` is a deprecated function and will be removed in a future version. Please adapt your code to use either `displot` (a figure-level function with similar flexibility) or `histplot` (an axes-level function for histograms).\n",
      "  warnings.warn(msg, FutureWarning)\n"
     ]
    },
    {
     "data": {
      "image/png": "[encoded data removed]",
      "text/plain": [
       "<Figure size 432x288 with 1 Axes>"
      ]
     },
     "metadata": {
      "needs_background": "light"
     },
     "output_type": "display_data"
    }
   ],
   "source": [
    "import matplotlib.pyplot as plt\n",
    "import seaborn as sns\n",
    "sns.distplot(arr)\n",
    "plt.show()"
   ]
  },
  {
   "cell_type": "code",
   "execution_count": 93,
   "id": "f91160c3",
   "metadata": {},
   "outputs": [
    {
     "name": "stderr",
     "output_type": "stream",
     "text": [
      "C:\\Users\\nguye\\anaconda3\\lib\\site-packages\\seaborn\\distributions.py:2619: FutureWarning: `distplot` is a deprecated function and will be removed in a future version. Please adapt your code to use either `displot` (a figure-level function with similar flexibility) or `kdeplot` (an axes-level function for kernel density plots).\n",
      "  warnings.warn(msg, FutureWarning)\n"
     ]
    },
    {
     "data": {
      "text/plain": [
       "<AxesSubplot:ylabel='Density'>"
      ]
     },
     "execution_count": 93,
     "metadata": {},
     "output_type": "execute_result"
    },
    {
     "data": {
      "image/png": "[encoded data removed]",
      "text/plain": [
       "<Figure size 432x288 with 1 Axes>"
      ]
     },
     "metadata": {
      "needs_background": "light"
     },
     "output_type": "display_data"
    }
   ],
   "source": [
    "# You can detele the histogram\n",
    "sns.distplot(arr, hist=False)"
   ]
  },
  {
   "cell_type": "markdown",
   "id": "16467c11",
   "metadata": {},
   "source": [
    "# Normal (Gaussian) Distribution\n",
    "+ The Normal Distribution is one of the most important distributions.\n",
    "\n",
    "+ It is also called the Gaussian Distribution after the German mathematician Carl Friedrich Gauss.\n",
    "\n",
    "+ It fits the probability distribution of many events, eg. IQ Scores, Heartbeat etc.\n",
    "\n",
    "Use the method to get a Normal Data Distribution.random.normal()\n",
    "\n",
    "+ It has three parameters:\n",
    "\n",
    "- loc - (Mean) where the peak of the bell exists.\n",
    "\n",
    "- scale - (Standard Deviation) how flat the graph distribution should be.\n",
    "\n",
    "- size - The shape of the returned array."
   ]
  },
  {
   "cell_type": "code",
   "execution_count": 129,
   "id": "dc75118c",
   "metadata": {},
   "outputs": [
    {
     "name": "stderr",
     "output_type": "stream",
     "text": [
      "C:\\Users\\nguye\\anaconda3\\lib\\site-packages\\seaborn\\distributions.py:2619: FutureWarning: `distplot` is a deprecated function and will be removed in a future version. Please adapt your code to use either `displot` (a figure-level function with similar flexibility) or `histplot` (an axes-level function for histograms).\n",
      "  warnings.warn(msg, FutureWarning)\n"
     ]
    },
    {
     "data": {
      "text/plain": [
       "<AxesSubplot:>"
      ]
     },
     "execution_count": 129,
     "metadata": {},
     "output_type": "execute_result"
    },
    {
     "data": {
      "image/png": "[encoded data removed]",
      "text/plain": [
       "<Figure size 432x288 with 1 Axes>"
      ]
     },
     "metadata": {
      "needs_background": "light"
     },
     "output_type": "display_data"
    }
   ],
   "source": [
    "from numpy import random\n",
    "\n",
    "x = random.normal(loc=1, scale=2, size=(2, 3))\n",
    "\n",
    "sns.distplot(x,kde=False)"
   ]
  },
  {
   "cell_type": "markdown",
   "id": "0354640c",
   "metadata": {},
   "source": [
    "# Binomial Distribution\n",
    "- Binomial Distribution is a Discrete Distribution.\n",
    "\n",
    "'''\n",
    "It describes the outcome of binary scenarios, e.g. toss of a coin, it will either be head or tails.\n",
    "\n",
    "It has three parameters:\n",
    "\n",
    "+ n - number of trials.\n",
    "\n",
    "+ p - probability of occurence of each trial (e.g. for toss of a coin 0.5 each).\n",
    "\n",
    "+ size - The shape of the returned array.\n",
    "'''"
   ]
  },
  {
   "cell_type": "code",
   "execution_count": 31,
   "id": "dc01ac6d",
   "metadata": {},
   "outputs": [],
   "source": [
    "from numpy import random\n",
    "x = random.binomial(n=10,p=0.5, size=1000)\n"
   ]
  },
  {
   "cell_type": "code",
   "execution_count": 32,
   "id": "85972699",
   "metadata": {},
   "outputs": [
    {
     "data": {
      "image/png": "[encoded data removed]",
      "text/plain": [
       "<Figure size 432x288 with 1 Axes>"
      ]
     },
     "metadata": {
      "needs_background": "light"
     },
     "output_type": "display_data"
    }
   ],
   "source": [
    "import matplotlib.pyplot as plt\n",
    "import seaborn as sns\n",
    "sns.distplot(x, hist=True, kde=False)\n",
    "plt.show()"
   ]
  },
  {
   "cell_type": "markdown",
   "id": "14536bdc",
   "metadata": {},
   "source": [
    "## Difference Between Normal and Binomial Distribution\n",
    "+ The main difference is that normal distribution is continous whereas binomial is discrete, but if there are enough data points it will be quite similar to normal distribution with certain loc and scale."
   ]
  },
  {
   "cell_type": "code",
   "execution_count": 36,
   "id": "6e820f55",
   "metadata": {},
   "outputs": [
    {
     "name": "stderr",
     "output_type": "stream",
     "text": [
      "C:\\Users\\nguye\\anaconda3\\lib\\site-packages\\seaborn\\distributions.py:2619: FutureWarning: `distplot` is a deprecated function and will be removed in a future version. Please adapt your code to use either `displot` (a figure-level function with similar flexibility) or `kdeplot` (an axes-level function for kernel density plots).\n",
      "  warnings.warn(msg, FutureWarning)\n",
      "C:\\Users\\nguye\\anaconda3\\lib\\site-packages\\seaborn\\distributions.py:2619: FutureWarning: `distplot` is a deprecated function and will be removed in a future version. Please adapt your code to use either `displot` (a figure-level function with similar flexibility) or `kdeplot` (an axes-level function for kernel density plots).\n",
      "  warnings.warn(msg, FutureWarning)\n"
     ]
    },
    {
     "data": {
      "image/png": "[encoded data removed]",
      "text/plain": [
       "<Figure size 432x288 with 1 Axes>"
      ]
     },
     "metadata": {
      "needs_background": "light"
     },
     "output_type": "display_data"
    }
   ],
   "source": [
    "from numpy import random\n",
    "import matplotlib.pyplot as plt\n",
    "import seaborn as sns\n",
    "sns.distplot(random.normal(loc=50, scale=5, size=1000), hist=False, label='Normal')\n",
    "sns.distplot(random.binomial(n=100, p=0.5, size=1000), hist=False, label='Binomial')\n",
    "plt.show()"
   ]
  },
  {
   "cell_type": "markdown",
   "id": "24519e9a",
   "metadata": {},
   "source": [
    "# NUMPY UFUNC\n",
    "+ unfuncs stands for \"Univeral Functions\" and they are Numpy Functions that operates on the object"
   ]
  },
  {
   "cell_type": "code",
   "execution_count": 39,
   "id": "6e24d5ab",
   "metadata": {},
   "outputs": [
    {
     "data": {
      "text/plain": [
       "array([ 8, 10, 12, 14])"
      ]
     },
     "execution_count": 39,
     "metadata": {},
     "output_type": "execute_result"
    }
   ],
   "source": [
    "# add\n",
    "x = [1,2,3,4]\n",
    "y = [7,8,9,10]\n",
    "z = np.add(x,y)\n",
    "z"
   ]
  },
  {
   "cell_type": "code",
   "execution_count": 41,
   "id": "d187ca3c",
   "metadata": {},
   "outputs": [
    {
     "name": "stdout",
     "output_type": "stream",
     "text": [
      "[4 6 8 10]\n"
     ]
    }
   ],
   "source": [
    "# frompyfunc()\n",
    "def myadd(x,y):\n",
    "    return x+y\n",
    "ls = np.frompyfunc(myadd, 2, 1)\n",
    "x = [1,2,3,4]\n",
    "y = [3,4,5,6]\n",
    "print(ls(x,y))"
   ]
  },
  {
   "cell_type": "markdown",
   "id": "e3ae7502",
   "metadata": {},
   "source": [
    "### HOW TO CHECK FUNCTION OR METHOD"
   ]
  },
  {
   "cell_type": "code",
   "execution_count": 44,
   "id": "c5cc2a80",
   "metadata": {},
   "outputs": [
    {
     "name": "stdout",
     "output_type": "stream",
     "text": [
      "<class 'numpy.ufunc'> <class 'function'>\n"
     ]
    }
   ],
   "source": [
    "print(type(np.add),type(np.concatenate))"
   ]
  },
  {
   "cell_type": "markdown",
   "id": "c7597b72",
   "metadata": {},
   "source": [
    "#### Subtraction"
   ]
  },
  {
   "cell_type": "code",
   "execution_count": 57,
   "id": "81087468",
   "metadata": {},
   "outputs": [
    {
     "name": "stdout",
     "output_type": "stream",
     "text": [
      "Subtraction:  [-5 -1 -2 -2 -2 -2] \n",
      "\n",
      "Multiplication:  [ 6  6 15 24 35 48] \n",
      "\n",
      "Divison:  [0.16666667 0.66666667 0.6        0.66666667 0.71428571 0.75      ] \n",
      "\n",
      "Power:  [      1       8     243    4096   78125 1679616] \n",
      "\n",
      "MOD:  [1 2 3 4 5 6] \n",
      "\n",
      "DIV: Array 1 is Division and array 2 is mod or remainder (array([0, 0, 0, 0, 0, 0], dtype=int32), array([1, 2, 3, 4, 5, 6], dtype=int32)) \n",
      "\n"
     ]
    }
   ],
   "source": [
    "arr1 = np.array([1,2,3,4,5,6])\n",
    "arr2 = np.array([6,3,5,6,7,8])\n",
    "newarr_sub = np.subtract(arr1,arr2)\n",
    "newarr_multi = np.multiply(arr1,arr2)\n",
    "newarr_divison = np.divide(arr1,arr2)\n",
    "newarr_power = np.power(arr1,arr2)\n",
    "newarr_remainder = np.mod(arr1,arr2)\n",
    "newarr_divmod = np.divmod(arr1,arr2)\n",
    "\n",
    "print(\"Subtraction: \",newarr_sub,'\\n')\n",
    "print(\"Multiplication: \",newarr_multi,'\\n')\n",
    "print(\"Divison: \",newarr_divison,'\\n')\n",
    "print(\"Power: \",newarr_power,'\\n')\n",
    "print(\"MOD: \",newarr_remainder,'\\n')\n",
    "print(\"DIV: Array 1 is Division and array 2 is mod or remainder\",newarr_divmod,'\\n')\n"
   ]
  },
  {
   "cell_type": "code",
   "execution_count": 59,
   "id": "8cba25dc",
   "metadata": {},
   "outputs": [
    {
     "data": {
      "text/plain": [
       "array([1, 2, 4, 5])"
      ]
     },
     "execution_count": 59,
     "metadata": {},
     "output_type": "execute_result"
    }
   ],
   "source": [
    "# abs\n",
    "arr = np.array([-1,-2,-4,5])\n",
    "arr = abs(arr)\n",
    "arr"
   ]
  },
  {
   "cell_type": "code",
   "execution_count": 85,
   "id": "01bc1f97",
   "metadata": {},
   "outputs": [
    {
     "data": {
      "text/plain": [
       "1.0"
      ]
     },
     "execution_count": 85,
     "metadata": {},
     "output_type": "execute_result"
    }
   ],
   "source": [
    "# remove decimal \n",
    "arr = np.array([1.666666,3.1])\n",
    "x = np.fix(arr)\n",
    "x[0]"
   ]
  },
  {
   "cell_type": "code",
   "execution_count": 98,
   "id": "0e4d4733",
   "metadata": {},
   "outputs": [
    {
     "data": {
      "text/plain": [
       "array([2., 3.])"
      ]
     },
     "execution_count": 98,
     "metadata": {},
     "output_type": "execute_result"
    }
   ],
   "source": [
    "# around decimal 2 after\n",
    "x = np.around(arr,0)\n",
    "# or short around nearest\n",
    "# x = np.ceil(arr)\n",
    "x"
   ]
  },
  {
   "cell_type": "code",
   "execution_count": 93,
   "id": "5d91cf61",
   "metadata": {},
   "outputs": [
    {
     "data": {
      "text/plain": [
       "array([3., 3.])"
      ]
     },
     "execution_count": 93,
     "metadata": {},
     "output_type": "execute_result"
    }
   ],
   "source": [
    "ans = np.floor([3.1666, 3.6667])\n",
    "ans"
   ]
  },
  {
   "cell_type": "markdown",
   "id": "50757ae3",
   "metadata": {},
   "source": [
    "+ Note:\n",
    "    func ceil and floor different:\n",
    "        - Ceil arounding to increase\n",
    "        - Floot arounding to reduce"
   ]
  },
  {
   "cell_type": "markdown",
   "id": "1ce58623",
   "metadata": {},
   "source": [
    "### LOG\n",
    "+ Log2()\n",
    "+ Log10()\n",
    "+ log()-->log_e()"
   ]
  },
  {
   "cell_type": "code",
   "execution_count": 112,
   "id": "e4f2e005",
   "metadata": {},
   "outputs": [
    {
     "data": {
      "text/plain": [
       "array([ 6, 14])"
      ]
     },
     "execution_count": 112,
     "metadata": {},
     "output_type": "execute_result"
    }
   ],
   "source": [
    "# Sum computation mutil array \n",
    "arr1 = np.array([1,2,3])\n",
    "arr2 = np.power(arr1,2)\n",
    "\n",
    "sum_arr = np.sum([arr1,arr2]) # sum all array\n",
    "sum_arr"
   ]
  },
  {
   "cell_type": "code",
   "execution_count": 115,
   "id": "75208e4d",
   "metadata": {},
   "outputs": [
    {
     "data": {
      "text/plain": [
       "array([ 6, 14])"
      ]
     },
     "execution_count": 115,
     "metadata": {},
     "output_type": "execute_result"
    }
   ],
   "source": [
    "sum_arr = np.sum([arr1,arr2], axis=1) # sum 1 array\n",
    "sum_arr"
   ]
  },
  {
   "cell_type": "code",
   "execution_count": 126,
   "id": "46f1b819",
   "metadata": {},
   "outputs": [
    {
     "data": {
      "text/plain": [
       "array([ 1,  3,  6, 10, 15], dtype=int32)"
      ]
     },
     "execution_count": 126,
     "metadata": {},
     "output_type": "execute_result"
    }
   ],
   "source": [
    "# Tính tổng tiền tố nhanh prefix sum\n",
    "arrs = np.array([1,2,3,4,5])\n",
    "arrr = np.array([1,2,3,4,5])\n",
    "prefix_sum = np.cumsum(arrs)\n",
    "prefix_sum"
   ]
  },
  {
   "cell_type": "code",
   "execution_count": 130,
   "id": "433ac5ac",
   "metadata": {},
   "outputs": [
    {
     "name": "stdout",
     "output_type": "stream",
     "text": [
      "Nhan 1 mang:  120\n",
      "Nhan nhieu mang:  14400\n",
      "Nếu bạn chỉ muốn lấy các giá trị nhân của từng mang:  [120 120]\n"
     ]
    }
   ],
   "source": [
    "# Fast multiply element in array\n",
    "xs = np.prod(arrs) \n",
    "xss = np.prod([arrs,arrr])\n",
    "xsss = np.prod([arrs,arrr],axis=1)\n",
    "print(\"Nhan 1 mang: \",xs)\n",
    "print(\"Nhan nhieu mang: \",xss)\n",
    "print(\"Nếu bạn chỉ muốn lấy các giá trị nhân của từng mang: \",xsss)"
   ]
  },
  {
   "cell_type": "code",
   "execution_count": null,
   "id": "a73e0b6d",
   "metadata": {},
   "outputs": [],
   "source": [
    "### Cummulative Product\n",
    "ex: [1,2,3,4,5,6]-->[1,1*2,1*2*3, 1*2*3*4,1*2*3*4*5,1*2*3*4*5*6]\n",
    "    "
   ]
  },
  {
   "cell_type": "code",
   "execution_count": 133,
   "id": "1ae17e3b",
   "metadata": {},
   "outputs": [
    {
     "data": {
      "text/plain": [
       "array([  1,   2,   6,  24, 120, 720], dtype=int32)"
      ]
     },
     "execution_count": 133,
     "metadata": {},
     "output_type": "execute_result"
    }
   ],
   "source": [
    "cp = np.array([1,2,3,4,5,6])\n",
    "cp = np.cumprod(cp)\n",
    "cp"
   ]
  },
  {
   "cell_type": "markdown",
   "id": "66cb9b6c",
   "metadata": {},
   "source": [
    "# Differences \n",
    "A discrete difference means subtracting two successive elements.\n",
    "\n",
    "E.g. for [1, 2, 3, 4], the discrete difference would be [2-1, 3-2, 4-3] = [1, 1, 1]"
   ]
  },
  {
   "cell_type": "code",
   "execution_count": 135,
   "id": "2ac3cc04",
   "metadata": {},
   "outputs": [
    {
     "data": {
      "text/plain": [
       "array([1, 1, 1, 1, 1])"
      ]
     },
     "execution_count": 135,
     "metadata": {},
     "output_type": "execute_result"
    }
   ],
   "source": [
    "df = np.array([1,2,3,4,5,6])\n",
    "nwdf = np.diff(df) # subtract once\n",
    "nwdf"
   ]
  },
  {
   "cell_type": "code",
   "execution_count": 136,
   "id": "987802e9",
   "metadata": {},
   "outputs": [
    {
     "data": {
      "text/plain": [
       "array([0, 0, 0, 0])"
      ]
     },
     "execution_count": 136,
     "metadata": {},
     "output_type": "execute_result"
    }
   ],
   "source": [
    "nwdf = np.diff(df,2) # subtract two\n",
    "nwdf\n"
   ]
  },
  {
   "cell_type": "markdown",
   "id": "18e57d73",
   "metadata": {},
   "source": [
    "# LCM"
   ]
  },
  {
   "cell_type": "code",
   "execution_count": 137,
   "id": "aa43704a",
   "metadata": {},
   "outputs": [
    {
     "data": {
      "text/plain": [
       "60"
      ]
     },
     "execution_count": 137,
     "metadata": {},
     "output_type": "execute_result"
    }
   ],
   "source": [
    "LCM = np.array([1,2,3,4,5,6])\n",
    "X= np.lcm.reduce(LCM)\n",
    "X"
   ]
  },
  {
   "cell_type": "markdown",
   "id": "3c6515df",
   "metadata": {},
   "source": [
    "# GCD"
   ]
  },
  {
   "cell_type": "code",
   "execution_count": 138,
   "id": "c7d5f69e",
   "metadata": {},
   "outputs": [
    {
     "data": {
      "text/plain": [
       "1"
      ]
     },
     "execution_count": 138,
     "metadata": {},
     "output_type": "execute_result"
    }
   ],
   "source": [
    "GCD = np.array([1,2,3,4,5,6])\n",
    "X= np.gcd.reduce(LCM)\n",
    "X"
   ]
  }
 ],
 "metadata": {
  "kernelspec": {
   "display_name": "Python 3 (ipykernel)",
   "language": "python",
   "name": "python3"
  },
  "language_info": {
   "codemirror_mode": {
    "name": "ipython",
    "version": 3
   },
   "file_extension": ".py",
   "mimetype": "text/x-python",
   "name": "python",
   "nbconvert_exporter": "python",
   "pygments_lexer": "ipython3",
   "version": "3.9.7"
  }
 },
 "nbformat": 4,
 "nbformat_minor": 5
}
